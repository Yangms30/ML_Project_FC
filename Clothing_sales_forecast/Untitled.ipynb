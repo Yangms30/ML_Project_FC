{
 "cells": [
  {
   "cell_type": "code",
   "execution_count": 1,
   "id": "2983c0b2-bfc2-415a-a99c-3e13ed5b396c",
   "metadata": {},
   "outputs": [],
   "source": [
    "import warnings\n",
    "warnings.filterwarnings('ignore')\n"
   ]
  },
  {
   "cell_type": "code",
   "execution_count": null,
   "id": "e3a5af2e-cf23-4ddf-bbfe-55e18b369abd",
   "metadata": {},
   "outputs": [],
   "source": [
    "%pip install mxnet gluonts"
   ]
  },
  {
   "cell_type": "code",
   "execution_count": null,
   "id": "68cf7143-7694-4282-ab33-fdc7945c9488",
   "metadata": {},
   "outputs": [],
   "source": [
    "import pandas as pd\n",
    "import numpy as np"
   ]
  },
  {
   "cell_type": "code",
   "execution_count": null,
   "id": "6bc9e414-36d7-4917-b656-a615bd286d4d",
   "metadata": {},
   "outputs": [],
   "source": []
  }
 ],
 "metadata": {
  "kernelspec": {
   "display_name": "Python 3 (ipykernel)",
   "language": "python",
   "name": "python3"
  },
  "language_info": {
   "codemirror_mode": {
    "name": "ipython",
    "version": 3
   },
   "file_extension": ".py",
   "mimetype": "text/x-python",
   "name": "python",
   "nbconvert_exporter": "python",
   "pygments_lexer": "ipython3",
   "version": "3.12.4"
  }
 },
 "nbformat": 4,
 "nbformat_minor": 5
}
